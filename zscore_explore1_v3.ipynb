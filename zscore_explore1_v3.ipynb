{
 "cells": [
  {
   "cell_type": "code",
   "execution_count": null,
   "metadata": {},
   "outputs": [],
   "source": []
  },
  {
   "cell_type": "code",
   "execution_count": null,
   "metadata": {},
   "outputs": [],
   "source": [
    "import pandas as pd\n",
    "import numpy as np\n",
    "import scipy.stats as stats\n",
    "\n",
    "import warnings\n",
    "warnings.filterwarnings(\"ignore\")"
   ]
  },
  {
   "cell_type": "code",
   "execution_count": null,
   "metadata": {},
   "outputs": [],
   "source": [
    "# https://www.statology.org/z-score-python/\n",
    "# https://stackoverflow.com/questions/20864847/probability-to-z-score-and-vice-versa\n",
    "# https://stackoverflow.com/questions/3496656/convert-z-score-z-value-standard-score-to-p-value-for-normal-distribution-in?noredirect=1&lq=1"
   ]
  },
  {
   "cell_type": "code",
   "execution_count": null,
   "metadata": {},
   "outputs": [],
   "source": [
    "data = np.array([2.7, 3.7, 3.9, 3.1])"
   ]
  },
  {
   "cell_type": "code",
   "execution_count": null,
   "metadata": {},
   "outputs": [],
   "source": [
    "stats.zscore(data)"
   ]
  },
  {
   "cell_type": "code",
   "execution_count": null,
   "metadata": {},
   "outputs": [],
   "source": [
    "np.mean(data)"
   ]
  },
  {
   "cell_type": "code",
   "execution_count": null,
   "metadata": {},
   "outputs": [],
   "source": [
    "stats.norm.cdf(0.73379939)"
   ]
  },
  {
   "cell_type": "code",
   "execution_count": null,
   "metadata": {},
   "outputs": [],
   "source": [
    "stats.norm.cdf(1.15311332)"
   ]
  },
  {
   "cell_type": "code",
   "execution_count": null,
   "metadata": {},
   "outputs": [],
   "source": [
    "stats.norm.sf(abs(0.73379939))"
   ]
  },
  {
   "cell_type": "code",
   "execution_count": null,
   "metadata": {},
   "outputs": [],
   "source": [
    "1 - 0.7684644938016261"
   ]
  },
  {
   "cell_type": "markdown",
   "metadata": {},
   "source": [
    "### Understand Z-Score 1"
   ]
  },
  {
   "cell_type": "code",
   "execution_count": null,
   "metadata": {},
   "outputs": [],
   "source": [
    "# https://www.geeksforgeeks.org/how-to-find-a-p-value-from-a-z-score-in-python/"
   ]
  },
  {
   "cell_type": "code",
   "execution_count": null,
   "metadata": {},
   "outputs": [],
   "source": [
    "%matplotlib inline\n",
    "\n",
    "import numpy as np\n",
    "import pandas as pd\n",
    "\n",
    "import matplotlib.pyplot as plt\n",
    "\n",
    "import scipy.stats as st"
   ]
  },
  {
   "cell_type": "code",
   "execution_count": null,
   "metadata": {},
   "outputs": [],
   "source": [
    "p_val = st.norm.sf(abs(6)) # 1.67\n",
    "\n",
    "# z-score: p-val (probability)\n",
    "# 0.0 -> 0.5\n",
    "# 0.5: 0.308\n",
    "# 0.9: 0.184\n",
    "\n",
    "print('p value is : ' + str(p_val))"
   ]
  },
  {
   "cell_type": "code",
   "execution_count": null,
   "metadata": {
    "scrolled": true
   },
   "outputs": [],
   "source": [
    "df_und = pd.DataFrame({'z': [0.0, 0.5,0.9, 1.67, 3.00, 6],\n",
    "                       'p': [0.5, 0.308, 0.184, 0.04746, 0.00134989, 9.865876450376946e-10]})\n",
    "\n",
    "plt.figure()\n",
    "plt.plot(df_und['z'], df_und['p'], 'o--')\n",
    "\n",
    "plt.xlabel('Z-Score')\n",
    "plt.ylabel('Probability')"
   ]
  },
  {
   "cell_type": "markdown",
   "metadata": {},
   "source": [
    "### Example"
   ]
  },
  {
   "cell_type": "code",
   "execution_count": null,
   "metadata": {},
   "outputs": [],
   "source": [
    "%matplotlib inline\n",
    "\n",
    "import numpy as np\n",
    "import pandas as pd\n",
    "\n",
    "import matplotlib.pyplot as plt\n",
    "\n",
    "import scipy.stats as st"
   ]
  },
  {
   "cell_type": "code",
   "execution_count": null,
   "metadata": {},
   "outputs": [],
   "source": [
    "vec_score = [2.7, 3.7, 3.9, 3.1]\n",
    "# vec_score = [2.7, 2.7+0.35, 3.7, 3.9, 3.9+0.35, 3.1]\n",
    "z = st.zscore(vec_score)\n",
    "z"
   ]
  },
  {
   "cell_type": "code",
   "execution_count": null,
   "metadata": {},
   "outputs": [],
   "source": [
    "np.mean(vec_score)\n",
    "np.std(vec_score)"
   ]
  },
  {
   "cell_type": "code",
   "execution_count": null,
   "metadata": {},
   "outputs": [],
   "source": [
    "i = 0\n",
    "print('scores: '+ str(vec_score))\n",
    "print('mean: ' + str(np.mean(vec_score)))\n",
    "print('std: ' + str(np.std(vec_score)))\n",
    "print(\" \")\n",
    "\n",
    "for zsc in z:\n",
    "    print('survey_score: ' + str(vec_score[i]))\n",
    "    print('survey_score-vec_mean: ' + str(vec_score[i]- np.mean(vec_score)))\n",
    "    print('z-score: ' + str(zsc))\n",
    "    print('probabiliyt: ' + str(st.norm.sf(abs(zsc))))\n",
    "    print('1-prob: ' + str(1-st.norm.sf(abs(zsc))))\n",
    "    print(\" \")\n",
    "    i = i + 1"
   ]
  },
  {
   "cell_type": "code",
   "execution_count": null,
   "metadata": {},
   "outputs": [],
   "source": [
    "#vec_score = [2.7, 3.7, 3.9, 3.1]\n",
    "# vec_score = [2.7, 2.7+0.35, 3.7, 3.9, 3.9+0.35, 3.1]\n",
    "\n",
    "# cola: 3.21, 2.87\n",
    "# 3.21 - 2.87  # 0.33999 = 0.34 = about 0.35\n",
    "# vec_score = [2.87, 3.7, 3.9, 3.21]\n",
    "\n",
    "vec_score = [2.87, 2.95, 3.10, 3.21]\n",
    "\n",
    "\n",
    "z = st.zscore(vec_score)\n",
    "z"
   ]
  },
  {
   "cell_type": "code",
   "execution_count": null,
   "metadata": {},
   "outputs": [],
   "source": [
    "i = 0\n",
    "print('scores: '+ str(vec_score))\n",
    "print('mean: ' + str(np.mean(vec_score)))\n",
    "print('std: ' + str(np.std(vec_score)))\n",
    "print(\" \")\n",
    "\n",
    "for zsc in z:\n",
    "    print('survey_score: ' + str(vec_score[i]))\n",
    "    print('survey_score-vec_mean: ' + str(vec_score[i]- np.mean(vec_score)))\n",
    "    print('z-score: ' + str(zsc))\n",
    "    print('probabiliyt: ' + str(st.norm.sf(abs(zsc))))\n",
    "    print('1-prob: ' + str(1-st.norm.sf(abs(zsc))))\n",
    "    print(\" \")\n",
    "    i = i + 1"
   ]
  },
  {
   "cell_type": "code",
   "execution_count": null,
   "metadata": {},
   "outputs": [],
   "source": [
    "-1.3587497169856575 = 91.3085 percentile (91% scored higher than you)  (you scored higher than 8.7% of others)\n",
    "-0.52 = 69.84 percentile (bad) (70% scored higher than you) (you scored higher than 30% of others)"
   ]
  },
  {
   "cell_type": "markdown",
   "metadata": {},
   "source": [
    "### Z-Score to Percentile"
   ]
  },
  {
   "cell_type": "code",
   "execution_count": null,
   "metadata": {},
   "outputs": [],
   "source": [
    "%matplotlib inline\n",
    "\n",
    "from numpy import random\n",
    "\n",
    "import math\n",
    "\n",
    "import matplotlib.pyplot as plt\n",
    "import seaborn as sns"
   ]
  },
  {
   "cell_type": "code",
   "execution_count": null,
   "metadata": {},
   "outputs": [],
   "source": [
    "# https://gist.github.com/gebelo/902815fd76c080a4a668e96a93cb430d\n",
    "\n",
    "def zptile(z_score):\n",
    "    return .5 * (math.erf(z_score / 2 ** .5) + 1)\n"
   ]
  },
  {
   "cell_type": "code",
   "execution_count": null,
   "metadata": {},
   "outputs": [],
   "source": [
    "zptile(-1.234795658226444) # 0.10845328183303587\n",
    "\n",
    "zptile(1.3487767959088897) # 0.911295665000439"
   ]
  },
  {
   "cell_type": "code",
   "execution_count": null,
   "metadata": {},
   "outputs": [],
   "source": [
    "plt.figure(figsize=(8,5))\n",
    "plt.style.use('default')\n",
    "plt.style.use('seaborn-whitegrid')\n",
    "plt.style.use('seaborn-poster')\n",
    "\n",
    "sns.distplot(random.normal(size=100000), hist=False);\n",
    "plt.xlabel('Z-Value')\n",
    "\n",
    "plt.axvline(x=-1.23479, linestyle='--', color='red', label='Score: 2.87 ')\n",
    "\n",
    "plt.axvline(x=1.34877679, linestyle='--', color='green', label='Score: 3.21')\n",
    "\n",
    "plt.legend()"
   ]
  },
  {
   "cell_type": "code",
   "execution_count": null,
   "metadata": {},
   "outputs": [],
   "source": []
  }
 ],
 "metadata": {
  "kernelspec": {
   "display_name": "Python 3",
   "language": "python",
   "name": "python3"
  },
  "language_info": {
   "codemirror_mode": {
    "name": "ipython",
    "version": 3
   },
   "file_extension": ".py",
   "mimetype": "text/x-python",
   "name": "python",
   "nbconvert_exporter": "python",
   "pygments_lexer": "ipython3",
   "version": "3.8.5"
  }
 },
 "nbformat": 4,
 "nbformat_minor": 5
}
